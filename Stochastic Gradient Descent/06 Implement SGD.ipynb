{
 "cells": [
  {
   "cell_type": "markdown",
   "metadata": {},
   "source": [
    "## Linear Regression - Stochastic Gradient Descent"
   ]
  },
  {
   "cell_type": "code",
   "execution_count": 51,
   "metadata": {
    "colab": {},
    "colab_type": "code",
    "id": "REYPoTJ1Af7u"
   },
   "outputs": [],
   "source": [
    "import warnings\n",
    "warnings.filterwarnings(\"ignore\")\n",
    "from sklearn.datasets import load_boston\n",
    "from random import seed\n",
    "from random import randrange\n",
    "from csv import reader\n",
    "from math import sqrt\n",
    "from sklearn import preprocessing\n",
    "import pandas as pd\n",
    "import numpy as np\n",
    "import matplotlib.pyplot as plt\n",
    "from prettytable import PrettyTable\n",
    "from sklearn.linear_model import SGDRegressor\n",
    "from sklearn import preprocessing\n",
    "from sklearn.metrics import mean_squared_error"
   ]
  },
  {
   "cell_type": "code",
   "execution_count": 52,
   "metadata": {},
   "outputs": [],
   "source": [
    "data=load_boston()"
   ]
  },
  {
   "cell_type": "code",
   "execution_count": 53,
   "metadata": {},
   "outputs": [
    {
     "name": "stdout",
     "output_type": "stream",
     "text": [
      ".. _boston_dataset:\n",
      "\n",
      "Boston house prices dataset\n",
      "---------------------------\n",
      "\n",
      "**Data Set Characteristics:**  \n",
      "\n",
      "    :Number of Instances: 506 \n",
      "\n",
      "    :Number of Attributes: 13 numeric/categorical predictive. Median Value (attribute 14) is usually the target.\n",
      "\n",
      "    :Attribute Information (in order):\n",
      "        - CRIM     per capita crime rate by town\n",
      "        - ZN       proportion of residential land zoned for lots over 25,000 sq.ft.\n",
      "        - INDUS    proportion of non-retail business acres per town\n",
      "        - CHAS     Charles River dummy variable (= 1 if tract bounds river; 0 otherwise)\n",
      "        - NOX      nitric oxides concentration (parts per 10 million)\n",
      "        - RM       average number of rooms per dwelling\n",
      "        - AGE      proportion of owner-occupied units built prior to 1940\n",
      "        - DIS      weighted distances to five Boston employment centres\n",
      "        - RAD      index of accessibility to radial highways\n",
      "        - TAX      full-value property-tax rate per $10,000\n",
      "        - PTRATIO  pupil-teacher ratio by town\n",
      "        - B        1000(Bk - 0.63)^2 where Bk is the proportion of blacks by town\n",
      "        - LSTAT    % lower status of the population\n",
      "        - MEDV     Median value of owner-occupied homes in $1000's\n",
      "\n",
      "    :Missing Attribute Values: None\n",
      "\n",
      "    :Creator: Harrison, D. and Rubinfeld, D.L.\n",
      "\n",
      "This is a copy of UCI ML housing dataset.\n",
      "https://archive.ics.uci.edu/ml/machine-learning-databases/housing/\n",
      "\n",
      "\n",
      "This dataset was taken from the StatLib library which is maintained at Carnegie Mellon University.\n",
      "\n",
      "The Boston house-price data of Harrison, D. and Rubinfeld, D.L. 'Hedonic\n",
      "prices and the demand for clean air', J. Environ. Economics & Management,\n",
      "vol.5, 81-102, 1978.   Used in Belsley, Kuh & Welsch, 'Regression diagnostics\n",
      "...', Wiley, 1980.   N.B. Various transformations are used in the table on\n",
      "pages 244-261 of the latter.\n",
      "\n",
      "The Boston house-price data has been used in many machine learning papers that address regression\n",
      "problems.   \n",
      "     \n",
      ".. topic:: References\n",
      "\n",
      "   - Belsley, Kuh & Welsch, 'Regression diagnostics: Identifying Influential Data and Sources of Collinearity', Wiley, 1980. 244-261.\n",
      "   - Quinlan,R. (1993). Combining Instance-Based and Model-Based Learning. In Proceedings on the Tenth International Conference of Machine Learning, 236-243, University of Massachusetts, Amherst. Morgan Kaufmann.\n",
      "\n"
     ]
    }
   ],
   "source": [
    "print(data.DESCR)"
   ]
  },
  {
   "cell_type": "markdown",
   "metadata": {},
   "source": [
    "## Objective:"
   ]
  },
  {
   "cell_type": "markdown",
   "metadata": {},
   "source": [
    "- Here the objective of this analysis is to predict the house price"
   ]
  },
  {
   "cell_type": "code",
   "execution_count": 54,
   "metadata": {},
   "outputs": [
    {
     "name": "stdout",
     "output_type": "stream",
     "text": [
      "['CRIM' 'ZN' 'INDUS' 'CHAS' 'NOX' 'RM' 'AGE' 'DIS' 'RAD' 'TAX' 'PTRATIO'\n",
      " 'B' 'LSTAT']\n"
     ]
    }
   ],
   "source": [
    "# Feature names \n",
    "\n",
    "print(data.feature_names)"
   ]
  },
  {
   "cell_type": "code",
   "execution_count": 55,
   "metadata": {},
   "outputs": [],
   "source": [
    "# loading to DataFrame\n",
    "\n",
    "boston_data=pd.DataFrame(data.data,columns=data.feature_names)"
   ]
  },
  {
   "cell_type": "code",
   "execution_count": 56,
   "metadata": {},
   "outputs": [
    {
     "data": {
      "text/plain": [
       "(506, 13)"
      ]
     },
     "execution_count": 56,
     "metadata": {},
     "output_type": "execute_result"
    }
   ],
   "source": [
    "boston_data.shape"
   ]
  },
  {
   "cell_type": "code",
   "execution_count": 57,
   "metadata": {},
   "outputs": [],
   "source": [
    "# Adding label to the dataframe\n",
    "\n",
    "boston_data[\"Price\"]=data.target"
   ]
  },
  {
   "cell_type": "code",
   "execution_count": 58,
   "metadata": {},
   "outputs": [
    {
     "data": {
      "text/html": [
       "<div>\n",
       "<style scoped>\n",
       "    .dataframe tbody tr th:only-of-type {\n",
       "        vertical-align: middle;\n",
       "    }\n",
       "\n",
       "    .dataframe tbody tr th {\n",
       "        vertical-align: top;\n",
       "    }\n",
       "\n",
       "    .dataframe thead th {\n",
       "        text-align: right;\n",
       "    }\n",
       "</style>\n",
       "<table border=\"1\" class=\"dataframe\">\n",
       "  <thead>\n",
       "    <tr style=\"text-align: right;\">\n",
       "      <th></th>\n",
       "      <th>CRIM</th>\n",
       "      <th>ZN</th>\n",
       "      <th>INDUS</th>\n",
       "      <th>CHAS</th>\n",
       "      <th>NOX</th>\n",
       "      <th>RM</th>\n",
       "      <th>AGE</th>\n",
       "      <th>DIS</th>\n",
       "      <th>RAD</th>\n",
       "      <th>TAX</th>\n",
       "      <th>PTRATIO</th>\n",
       "      <th>B</th>\n",
       "      <th>LSTAT</th>\n",
       "      <th>Price</th>\n",
       "    </tr>\n",
       "  </thead>\n",
       "  <tbody>\n",
       "    <tr>\n",
       "      <th>0</th>\n",
       "      <td>0.00632</td>\n",
       "      <td>18.0</td>\n",
       "      <td>2.31</td>\n",
       "      <td>0.0</td>\n",
       "      <td>0.538</td>\n",
       "      <td>6.575</td>\n",
       "      <td>65.2</td>\n",
       "      <td>4.0900</td>\n",
       "      <td>1.0</td>\n",
       "      <td>296.0</td>\n",
       "      <td>15.3</td>\n",
       "      <td>396.90</td>\n",
       "      <td>4.98</td>\n",
       "      <td>24.0</td>\n",
       "    </tr>\n",
       "    <tr>\n",
       "      <th>1</th>\n",
       "      <td>0.02731</td>\n",
       "      <td>0.0</td>\n",
       "      <td>7.07</td>\n",
       "      <td>0.0</td>\n",
       "      <td>0.469</td>\n",
       "      <td>6.421</td>\n",
       "      <td>78.9</td>\n",
       "      <td>4.9671</td>\n",
       "      <td>2.0</td>\n",
       "      <td>242.0</td>\n",
       "      <td>17.8</td>\n",
       "      <td>396.90</td>\n",
       "      <td>9.14</td>\n",
       "      <td>21.6</td>\n",
       "    </tr>\n",
       "    <tr>\n",
       "      <th>2</th>\n",
       "      <td>0.02729</td>\n",
       "      <td>0.0</td>\n",
       "      <td>7.07</td>\n",
       "      <td>0.0</td>\n",
       "      <td>0.469</td>\n",
       "      <td>7.185</td>\n",
       "      <td>61.1</td>\n",
       "      <td>4.9671</td>\n",
       "      <td>2.0</td>\n",
       "      <td>242.0</td>\n",
       "      <td>17.8</td>\n",
       "      <td>392.83</td>\n",
       "      <td>4.03</td>\n",
       "      <td>34.7</td>\n",
       "    </tr>\n",
       "    <tr>\n",
       "      <th>3</th>\n",
       "      <td>0.03237</td>\n",
       "      <td>0.0</td>\n",
       "      <td>2.18</td>\n",
       "      <td>0.0</td>\n",
       "      <td>0.458</td>\n",
       "      <td>6.998</td>\n",
       "      <td>45.8</td>\n",
       "      <td>6.0622</td>\n",
       "      <td>3.0</td>\n",
       "      <td>222.0</td>\n",
       "      <td>18.7</td>\n",
       "      <td>394.63</td>\n",
       "      <td>2.94</td>\n",
       "      <td>33.4</td>\n",
       "    </tr>\n",
       "    <tr>\n",
       "      <th>4</th>\n",
       "      <td>0.06905</td>\n",
       "      <td>0.0</td>\n",
       "      <td>2.18</td>\n",
       "      <td>0.0</td>\n",
       "      <td>0.458</td>\n",
       "      <td>7.147</td>\n",
       "      <td>54.2</td>\n",
       "      <td>6.0622</td>\n",
       "      <td>3.0</td>\n",
       "      <td>222.0</td>\n",
       "      <td>18.7</td>\n",
       "      <td>396.90</td>\n",
       "      <td>5.33</td>\n",
       "      <td>36.2</td>\n",
       "    </tr>\n",
       "  </tbody>\n",
       "</table>\n",
       "</div>"
      ],
      "text/plain": [
       "      CRIM    ZN  INDUS  CHAS    NOX     RM   AGE     DIS  RAD    TAX  \\\n",
       "0  0.00632  18.0   2.31   0.0  0.538  6.575  65.2  4.0900  1.0  296.0   \n",
       "1  0.02731   0.0   7.07   0.0  0.469  6.421  78.9  4.9671  2.0  242.0   \n",
       "2  0.02729   0.0   7.07   0.0  0.469  7.185  61.1  4.9671  2.0  242.0   \n",
       "3  0.03237   0.0   2.18   0.0  0.458  6.998  45.8  6.0622  3.0  222.0   \n",
       "4  0.06905   0.0   2.18   0.0  0.458  7.147  54.2  6.0622  3.0  222.0   \n",
       "\n",
       "   PTRATIO       B  LSTAT  Price  \n",
       "0     15.3  396.90   4.98   24.0  \n",
       "1     17.8  396.90   9.14   21.6  \n",
       "2     17.8  392.83   4.03   34.7  \n",
       "3     18.7  394.63   2.94   33.4  \n",
       "4     18.7  396.90   5.33   36.2  "
      ]
     },
     "execution_count": 58,
     "metadata": {},
     "output_type": "execute_result"
    }
   ],
   "source": [
    "boston_data.head()"
   ]
  },
  {
   "cell_type": "markdown",
   "metadata": {},
   "source": [
    "## Splitting the data into Train and Test"
   ]
  },
  {
   "cell_type": "code",
   "execution_count": 59,
   "metadata": {},
   "outputs": [],
   "source": [
    "X=boston_data.drop(\"Price\",axis=1)\n",
    "Y=boston_data[\"Price\"]"
   ]
  },
  {
   "cell_type": "code",
   "execution_count": 60,
   "metadata": {},
   "outputs": [],
   "source": [
    "# References\n",
    "# https://scikit-learn.org/stable/modules/generated/sklearn.model_selection.train_test_split.html\n",
    "\n",
    "from sklearn.model_selection import train_test_split\n",
    "x_train,x_test,y_train,y_test=train_test_split(X,Y,test_size=0.2,random_state=12)"
   ]
  },
  {
   "cell_type": "code",
   "execution_count": 61,
   "metadata": {},
   "outputs": [
    {
     "name": "stdout",
     "output_type": "stream",
     "text": [
      "Split ratio\n",
      "--------------------------------------------------\n",
      "Train dataset: 79.84189723320159 %\n",
      " size: 404\n",
      "Test dataset: 20.158102766798418 %\n",
      " size: 102\n"
     ]
    }
   ],
   "source": [
    "print(\"Split ratio\")\n",
    "print('-'*50)\n",
    "print('Train dataset:',len(x_train)/len(X)*100,'%\\n','size:',len(x_train))\n",
    "\n",
    "print('Test dataset:',len(x_test)/len(X)*100,'%\\n','size:',len(x_test))"
   ]
  },
  {
   "cell_type": "code",
   "execution_count": 62,
   "metadata": {},
   "outputs": [
    {
     "name": "stdout",
     "output_type": "stream",
     "text": [
      "train data shape (x_train,y_train)\n",
      "( (404, 13) , (404,) )\n",
      "test data shape (x_test,y_test)\n",
      "( (102, 13) , (102,) )\n"
     ]
    }
   ],
   "source": [
    "print(\"train data shape (x_train,y_train)\")\n",
    "print(\"(\",x_train.shape,\",\",y_train.shape,\")\")\n",
    "print(\"test data shape (x_test,y_test)\")\n",
    "print(\"(\",x_test.shape,\",\",y_test.shape,\")\")"
   ]
  },
  {
   "cell_type": "markdown",
   "metadata": {},
   "source": [
    "## Stochastic Gradient Descent (SGD) Algorithm implementation"
   ]
  },
  {
   "cell_type": "code",
   "execution_count": 63,
   "metadata": {},
   "outputs": [],
   "source": [
    "# Data standardization\n",
    "# References\n",
    "# https://scikit-learn.org/stable/modules/generated/sklearn.preprocessing.StandardScaler.html\n",
    "\n",
    "from sklearn.preprocessing import StandardScaler\n",
    "from tqdm import tqdm\n",
    "data_std=StandardScaler()\n",
    "x_train_std=data_std.fit_transform(x_train)\n",
    "x_test_std=data_std.transform(x_test)"
   ]
  },
  {
   "cell_type": "markdown",
   "metadata": {},
   "source": [
    "#### SGD Working Principle:\n",
    "\n",
    "-    Randomly choose w and b\n",
    "-    Initialize the learning rate and iteration\n",
    "-    Pick a random set of k points for every iteration, where 1≤𝑘≥𝑛\n",
    "\n",
    "- Update gradient for each iteration\n",
    "- Run a loop untill obtain the minimum w and b"
   ]
  },
  {
   "cell_type": "markdown",
   "metadata": {},
   "source": [
    "### Creating Function for SGD"
   ]
  },
  {
   "cell_type": "code",
   "execution_count": 64,
   "metadata": {},
   "outputs": [],
   "source": [
    "#Citations:\n",
    "# https://www.appliedaicourse.com/course/applied-ai-course-online/lessons/function-arguments/\n",
    "# https://www.geeksforgeeks.org/functions-in-python/\n",
    "# https://www.geeksforgeeks.org/g-fact-41-multiple-return-values-in-python/\n",
    "\n",
    "# Reference for To Generate the random values\n",
    "# https://docs.scipy.org/doc/numpy/reference/generated/numpy.random.randint.html"
   ]
  },
  {
   "cell_type": "code",
   "execution_count": 65,
   "metadata": {},
   "outputs": [],
   "source": [
    "# References To generate the the random w and b using Normal Distribution\n",
    "# https://docs.scipy.org/doc/numpy-1.14.0/reference/generated/numpy.random.normal.html\n",
    "\n",
    "# References To produce the same set of random values in the Normal distribution\n",
    "# https://stackoverflow.com/questions/21494489/what-does-numpy-random-seed0-do\n",
    "# https://docs.scipy.org/doc/numpy/reference/generated/numpy.random.seed.html\n",
    "\n",
    "# References for SGD Regeressor Implementation\n",
    "# https://towardsdatascience.com/gradient-descent-in-python-a0d07285742f\n",
    "# http://mccormickml.com/2014/03/04/gradient-descent-derivation/\n",
    "# https://machinelearningmastery.com/implement-linear-regression-stochastic-gradient-descent-scratch-python/\n",
    "# https://www.pyimagesearch.com/2016/10/17/stochastic-gradient-descent-sgd-with-python/ \n",
    "# https://github.com/PushpendraSinghChauhan/SGD-Linear-Regression/blob/master/\n",
    "# https://medium.com/@lachlanmiller_52885 \n",
    "  #/machine-learning-week-1-cost-function-gradient-descent-and-univariate-linear-regression-8f5fe69815fd\n",
    "# https://scikit-learn.org/stable/modules/sgd.html.\n",
    "# https://www.kaggle.com/tentotheminus9/linear-regression-from-scratch-gradient-descent\n",
    "\n",
    "# Reference for tqdm \n",
    "# https://pypi.org/project/tqdm/"
   ]
  },
  {
   "cell_type": "code",
   "execution_count": 66,
   "metadata": {},
   "outputs": [],
   "source": [
    "# Function for creating a k sample for each iteration:\n",
    "\n",
    "def k_sample(**para):\n",
    "    \n",
    "    k_sample_x=[]\n",
    "    k_sample_y=[]\n",
    "    \n",
    "    sample=np.random.randint(0,354,size=para[\"sample_size\"])\n",
    "    \n",
    "    fi=para[\"train_data\"]\n",
    "    la=para[\"train_label\"].values\n",
    "\n",
    "    for i in sample:\n",
    "        \n",
    "        a= list(fi[i])\n",
    "        b=la[i]\n",
    "        \n",
    "        k_sample_x.append(a)\n",
    "        k_sample_y.append(b)\n",
    "        \n",
    "    k_sample_x=np.asarray(k_sample_x)\n",
    "    k_sample_y=np.asarray(k_sample_y)\n",
    "    k_sample_y=np.reshape(k_sample_y,(para[\"sample_size\"],1))\n",
    "    \n",
    "    return k_sample_x,k_sample_y"
   ]
  },
  {
   "cell_type": "code",
   "execution_count": 67,
   "metadata": {},
   "outputs": [],
   "source": [
    "# Fuction for finding optimal w , b, mse and cost_list Using Stochastic Gradient Descent Optimization (SGD) Algorithm.\n",
    "\n",
    "def optimal_w_b(**para):\n",
    "\n",
    "    # Initializing\n",
    "    \n",
    "    size_w = para[\"train_data\"].shape[1]\n",
    "    np.random.seed(20)\n",
    "    w = np.random.normal(loc=0,scale=1,size=size_w)\n",
    "    w = np.reshape(w,(1,size_w))\n",
    "    b=float(np.random.normal(loc=0,scale=1,size=1))\n",
    "    r=0.001\n",
    "    \n",
    "    w_list = []\n",
    "    b_list = []\n",
    "    cost_list = []\n",
    "    value=para[\"iteration\"]\n",
    "    \n",
    "    # Loop for getting a optimul w and b using n iterations\n",
    "\n",
    "    for i in tqdm(range(0,value)):\n",
    "    \n",
    "        # k samples produces for each iteration\n",
    "        \n",
    "        k_sample_x,k_sample_y=k_sample(sample_size=para[\"sample_size\"],train_data=para[\"train_data\"],\\\n",
    "                                       train_label=para[\"train_label\"])\n",
    "    \n",
    "        n= k_sample_y.shape[0]\n",
    "    \n",
    "       \n",
    "        # Initialization to store the values\n",
    "        \n",
    "        grad_w = np.zeros((1,size_w))\n",
    "        grad_b = 0\n",
    "        cost = 0\n",
    "        \n",
    "        # Loop for produce the error and cost fuction \n",
    "        \n",
    "        for x,y in zip(k_sample_x,k_sample_y):\n",
    "        \n",
    "            x=np.reshape(x,(1,size_w))\n",
    "        \n",
    "            y=float(y)\n",
    "        \n",
    "            pred = np.dot(x,w.T) + b \n",
    "        \n",
    "            error = y - pred\n",
    "        \n",
    "            grad_w = grad_w + (x * error)\n",
    "        \n",
    "            grad_b = grad_b + (error)\n",
    "        \n",
    "            cost = cost + ((error)**2)\n",
    "        \n",
    "        dl_dw = (-2/n) * grad_w\n",
    "    \n",
    "        dl_db = (-2/n) * grad_b\n",
    "    \n",
    "        cost_value = (1/n) * (cost)\n",
    "    \n",
    "        w = w - ( r * dl_dw)\n",
    "    \n",
    "        b = b - (r * dl_db)\n",
    "    \n",
    "        # Storing w and b which will get each iterations\n",
    "        \n",
    "        w_list.append(w)\n",
    "        b_list.append(b)\n",
    "        cost_list.append(float(cost_value))\n",
    "        \n",
    "    # Optimal w,b,mse\n",
    "    \n",
    "    w_optimum=np.asarray(w_list[-1])\n",
    "    w_optimum= w_optimum[0]\n",
    "    b_optimum =np.asarray(b_list[-1])\n",
    "    b_optimum = float(b_optimum)\n",
    "    mse = np.asarray(cost_list[-1])\n",
    "    mse=float(mse)\n",
    "    \n",
    "    # Function Return values (w,b,mse,cost_list)\n",
    "    \n",
    "    return w_optimum,b_optimum,mse,cost_list"
   ]
  },
  {
   "cell_type": "code",
   "execution_count": 68,
   "metadata": {},
   "outputs": [],
   "source": [
    "# Fuction for Predict the test data using optimal w,b\n",
    "\n",
    "def SGD_Regressor_custom(**para):\n",
    "    \n",
    "    # list to store the predicted value\n",
    "    \n",
    "    pred_list =[]\n",
    "    cost=0\n",
    "    w=para[\"optimal_w\"]\n",
    "    b=para[\"optimal_b\"]\n",
    "    \n",
    "    # loop for Predict the test data using optimal w and b\n",
    "    \n",
    "    for x,y in zip(para[\"test_data\"],para[\"test_label\"]):\n",
    "        \n",
    "        size = para[\"test_data\"].shape[1]\n",
    "        \n",
    "        n= para[\"test_data\"].shape[0]\n",
    "        \n",
    "        x=np.reshape(x,(1,size))\n",
    "        \n",
    "        y=float(y)\n",
    "        \n",
    "        pred = np.dot(x,w.T) + b\n",
    "        \n",
    "        error = y - pred\n",
    "        \n",
    "        # MSE\n",
    "        \n",
    "        cost = cost + ((error)**2)\n",
    "        \n",
    "        pred_list.append(float(pred))\n",
    "        \n",
    "    mse = (1/n) * (cost)\n",
    "    \n",
    "    predict_value = np.asarray(pred_list)\n",
    "    \n",
    "    # Return predicted values\n",
    "    \n",
    "    return predict_value,float(mse)"
   ]
  },
  {
   "cell_type": "code",
   "execution_count": 69,
   "metadata": {},
   "outputs": [
    {
     "name": "stderr",
     "output_type": "stream",
     "text": [
      "100%|██████████| 2000/2000 [00:00<00:00, 4570.24it/s]\n"
     ]
    }
   ],
   "source": [
    "# Finding optimal w,b,mse and cost_list\n",
    "\n",
    "w_optimum,b_optimum,mse_train,cost_list=optimal_w_b(iteration=2000,sample_size=20,train_data=x_train_std,train_label=y_train)"
   ]
  },
  {
   "cell_type": "code",
   "execution_count": 70,
   "metadata": {},
   "outputs": [
    {
     "data": {
      "image/png": "[encoded data removed]",
      "text/plain": [
       "<Figure size 720x720 with 1 Axes>"
      ]
     },
     "metadata": {},
     "output_type": "display_data"
    }
   ],
   "source": [
    "# Plotting cost values for each iteration\n",
    "\n",
    "plt.close()\n",
    "plt.figure(figsize=(10,10))\n",
    "plt.plot(range(0,2000),cost_list)\n",
    "plt.grid()\n",
    "plt.xlabel(\"No of iterations\")\n",
    "plt.ylabel(\"Cost value\")\n",
    "plt.title(\"Optimization of Cost Fuction\")\n",
    "plt.show()"
   ]
  },
  {
   "cell_type": "markdown",
   "metadata": {},
   "source": [
    "#### Observation:\n",
    "\n",
    "-    If the number of iteration increases, The MSE (Cost) reduces.\n",
    "\n"
   ]
  },
  {
   "cell_type": "code",
   "execution_count": 71,
   "metadata": {},
   "outputs": [],
   "source": [
    "# Predict the test data using manually optimized w and b\n",
    "\n",
    "y_custom,mse=SGD_Regressor_custom(optimal_w=w_optimum,optimal_b=b_optimum,test_data=x_test_std,test_label=y_test)"
   ]
  },
  {
   "cell_type": "code",
   "execution_count": 72,
   "metadata": {},
   "outputs": [
    {
     "name": "stdout",
     "output_type": "stream",
     "text": [
      " the Optimal weight vector of manually implemented SGD\n",
      "=============================================================================================================================\n",
      "[-0.77812515  0.40610261 -0.27094832  0.98905431 -1.40834991  2.89629074\n",
      "  0.64666167 -2.14462645  1.23314931 -0.4524809  -1.79102283  0.73413303\n",
      " -4.31336998]\n",
      " \n",
      " the Optimal y intercept of manually implemented SGD\n",
      "=============================================================================================================================\n",
      "22.035944435479514\n",
      " \n",
      "The mse value of manually implemented SGD\n",
      "=============================================================================================================================\n",
      "21.770055179819852\n"
     ]
    }
   ],
   "source": [
    "print(\" the Optimal weight vector of manually implemented SGD\")\n",
    "print(\"=\"*125)\n",
    "print(w_optimum)\n",
    "print(\" \")\n",
    "print(\" the Optimal y intercept of manually implemented SGD\")\n",
    "print(\"=\"*125)\n",
    "print(b_optimum)\n",
    "print(\" \")\n",
    "print(\"The mse value of manually implemented SGD\")\n",
    "print(\"=\"*125)\n",
    "print(mse)"
   ]
  },
  {
   "cell_type": "code",
   "execution_count": 73,
   "metadata": {},
   "outputs": [
    {
     "data": {
      "image/png": "[encoded data removed]",
      "text/plain": [
       "<Figure size 432x288 with 1 Axes>"
      ]
     },
     "metadata": {},
     "output_type": "display_data"
    }
   ],
   "source": [
    "# Plot for actual values vs manually predicted values\n",
    "\n",
    "plt.close()\n",
    "plt.scatter(y_test,y_custom)\n",
    "plt.grid()\n",
    "plt.title(\"Actual label vs Manually Predicted label\")\n",
    "plt.xlabel(\"Actual label\")\n",
    "plt.ylabel(\"Manually predicted label\")\n",
    "plt.show()"
   ]
  },
  {
   "cell_type": "code",
   "execution_count": 74,
   "metadata": {},
   "outputs": [],
   "source": [
    "delta = y_test - y_custom"
   ]
  },
  {
   "cell_type": "code",
   "execution_count": 75,
   "metadata": {},
   "outputs": [
    {
     "data": {
      "image/png": "[encoded data removed]",
      "text/plain": [
       "<Figure size 432x288 with 1 Axes>"
      ]
     },
     "metadata": {},
     "output_type": "display_data"
    }
   ],
   "source": [
    "# Plotting the error difference (delta)\n",
    "import seaborn as sns\n",
    "plt.close()\n",
    "sns.set_style(\"whitegrid\")\n",
    "sns.kdeplot(np.array(delta),bw=.75)\n",
    "plt.show()"
   ]
  },
  {
   "cell_type": "code",
   "execution_count": 76,
   "metadata": {},
   "outputs": [
    {
     "data": {
      "image/png": "[encoded data removed]",
      "text/plain": [
       "<Figure size 432x432 with 3 Axes>"
      ]
     },
     "metadata": {},
     "output_type": "display_data"
    }
   ],
   "source": [
    "plt.close()\n",
    "sns.set_style(\"whitegrid\")\n",
    "fig=sns.jointplot(x=y_test,y=y_custom,kind=\"kde\")\n",
    "fig.set_axis_labels('Actual Price', 'Manually Predicted Price')\n",
    "plt.show()"
   ]
  },
  {
   "cell_type": "markdown",
   "metadata": {},
   "source": [
    "### Observation:\n",
    "\n",
    "-  Maximum number of actual and predicted price points lie between 15 to 35 \n"
   ]
  },
  {
   "cell_type": "markdown",
   "metadata": {},
   "source": [
    "### Implementation of Stochastic Gradient Descent (SGD) Algorithm using Sklearn"
   ]
  },
  {
   "cell_type": "code",
   "execution_count": 77,
   "metadata": {},
   "outputs": [],
   "source": [
    "from sklearn.linear_model import SGDRegressor\n",
    "from sklearn.metrics import mean_squared_error\n",
    "\n",
    "# Fitting a data to find optimal w and b\n",
    "\n",
    "model = SGDRegressor(max_iter=2000)\n",
    "model.fit(x_train_std,y_train)\n",
    "w_sklearn=model.coef_\n",
    "b_sklearn=model.intercept_"
   ]
  },
  {
   "cell_type": "code",
   "execution_count": 78,
   "metadata": {},
   "outputs": [],
   "source": [
    "# Predicting using sklearn model\n",
    "\n",
    "y_sklearn = model.predict(x_test_std)\n",
    "mse_sklearn = mean_squared_error(y_test,y_sklearn)"
   ]
  },
  {
   "cell_type": "code",
   "execution_count": 79,
   "metadata": {},
   "outputs": [
    {
     "name": "stdout",
     "output_type": "stream",
     "text": [
      " the Optimal weight vector of sklearn implemented SGD\n",
      "=============================================================================================================================\n",
      "[-0.89026351  1.09447669  0.22292746  0.79080819 -2.07301744  2.5906061\n",
      "  0.4253591  -3.0260349   2.83140261 -2.26526786 -1.74512239  0.82982324\n",
      " -4.10515481]\n",
      " \n",
      " the Optimal y intercept of sklearn implemented SGD\n",
      "=============================================================================================================================\n",
      "[ 22.39845869]\n",
      " \n",
      "The mse value of sklearn implemented SGD\n",
      "=============================================================================================================================\n",
      "20.6974994652\n"
     ]
    }
   ],
   "source": [
    "print(\" the Optimal weight vector of sklearn implemented SGD\")\n",
    "print(\"=\"*125)\n",
    "print(w_sklearn)\n",
    "print(\" \")\n",
    "print(\" the Optimal y intercept of sklearn implemented SGD\")\n",
    "print(\"=\"*125)\n",
    "print(b_sklearn)\n",
    "print(\" \")\n",
    "print(\"The mse value of sklearn implemented SGD\")\n",
    "print(\"=\"*125)\n",
    "print(mse_sklearn)"
   ]
  },
  {
   "cell_type": "code",
   "execution_count": 80,
   "metadata": {},
   "outputs": [
    {
     "data": {
      "image/png": "[encoded data removed]",
      "text/plain": [
       "<Figure size 432x288 with 1 Axes>"
      ]
     },
     "metadata": {},
     "output_type": "display_data"
    }
   ],
   "source": [
    "# Plot for actual values vs sklearn predicted values\n",
    "\n",
    "plt.close()\n",
    "plt.scatter(y_test,y_sklearn)\n",
    "plt.title(\"Actual label vs sklearn Predicted label\")\n",
    "plt.xlabel(\"Actual label\")\n",
    "plt.ylabel(\"sklearn predicted label\")\n",
    "plt.grid()\n",
    "plt.show()"
   ]
  },
  {
   "cell_type": "code",
   "execution_count": 81,
   "metadata": {},
   "outputs": [],
   "source": [
    "delta= y_test - y_sklearn"
   ]
  },
  {
   "cell_type": "code",
   "execution_count": 82,
   "metadata": {},
   "outputs": [
    {
     "data": {
      "image/png": "[encoded data removed]",
      "text/plain": [
       "<Figure size 432x288 with 1 Axes>"
      ]
     },
     "metadata": {},
     "output_type": "display_data"
    }
   ],
   "source": [
    "# Plotting the error difference (delta)\n",
    "\n",
    "plt.close()\n",
    "sns.set_style(\"whitegrid\")\n",
    "sns.kdeplot(np.array(delta),bw=.75)\n",
    "plt.show()"
   ]
  },
  {
   "cell_type": "code",
   "execution_count": 83,
   "metadata": {},
   "outputs": [
    {
     "data": {
      "image/png": "[encoded data removed]",
      "text/plain": [
       "<Figure size 432x432 with 3 Axes>"
      ]
     },
     "metadata": {},
     "output_type": "display_data"
    }
   ],
   "source": [
    "plt.close()\n",
    "sns.set_style(\"whitegrid\")\n",
    "fig=sns.jointplot(x=y_test,y=y_sklearn,kind=\"kde\")\n",
    "fig.set_axis_labels('Actual Price', 'sklearn Predicted Price')\n",
    "plt.show()"
   ]
  },
  {
   "cell_type": "markdown",
   "metadata": {},
   "source": [
    "### Observation:\n",
    "- Maximum number of actual and predicted price points lie between 15 to 35 "
   ]
  },
  {
   "cell_type": "code",
   "execution_count": 84,
   "metadata": {},
   "outputs": [
    {
     "data": {
      "image/png": "[encoded data removed]",
      "text/plain": [
       "<Figure size 432x288 with 1 Axes>"
      ]
     },
     "metadata": {},
     "output_type": "display_data"
    }
   ],
   "source": [
    "plt.close()\n",
    "plt.scatter(y_custom,y_sklearn)\n",
    "plt.grid()\n",
    "plt.title(\"Manually Predicted price vs sklearn prediced price \")\n",
    "plt.xlabel(\"Manually predicted price\")\n",
    "plt.ylabel(\"sklearn predicted price\")\n",
    "plt.show()"
   ]
  },
  {
   "cell_type": "markdown",
   "metadata": {},
   "source": [
    "### Observation:\n",
    "- The predicted price from sklearn's implentation is almost the same as the previous one"
   ]
  },
  {
   "cell_type": "markdown",
   "metadata": {},
   "source": [
    "### Comparing the values of both implementations using PrettyTable"
   ]
  },
  {
   "cell_type": "code",
   "execution_count": 85,
   "metadata": {},
   "outputs": [],
   "source": [
    "# References\n",
    "# http://zetcode.com/python/prettytable/\n",
    "\n",
    "from prettytable import PrettyTable\n",
    "\n"
   ]
  },
  {
   "cell_type": "code",
   "execution_count": 86,
   "metadata": {},
   "outputs": [
    {
     "name": "stdout",
     "output_type": "stream",
     "text": [
      "Weight vector Comparision of Both Own and sklearn SGD\n",
      "=============================================================================================================================\n",
      " \n",
      "+----------+---------------------+-------------------------+\n",
      "| w_number | Own implemented SGD | Sklearn implemented SGD |\n",
      "+----------+---------------------+-------------------------+\n",
      "|    1     |   -0.778125145726   |     -0.890263508549     |\n",
      "|    2     |    0.406102605601   |      1.09447669092      |\n",
      "|    3     |   -0.270948320162   |      0.222927458718     |\n",
      "|    4     |    0.989054307482   |      0.790808188879     |\n",
      "|    5     |    -1.40834990997   |      -2.07301744028     |\n",
      "|    6     |    2.89629073637    |      2.59060610495      |\n",
      "|    7     |     0.6466616709    |      0.425359102891     |\n",
      "|    8     |    -2.14462644854   |      -3.02603490068     |\n",
      "|    9     |    1.23314930667    |      2.83140261256      |\n",
      "|    10    |   -0.452480897221   |      -2.26526786366     |\n",
      "|    11    |    -1.7910228284    |      -1.74512238906     |\n",
      "|    12    |    0.734133029915   |      0.829823236114     |\n",
      "|    13    |    -4.31336998473   |      -4.10515480793     |\n",
      "+----------+---------------------+-------------------------+\n",
      " \n",
      "Intercept term Comparision of Both Own and sklearn SGD\n",
      "=============================================================================================================================\n",
      " \n",
      "+---------------------+-------------------------+\n",
      "| Own implemented SGD | Sklearn implemented SGD |\n",
      "+---------------------+-------------------------+\n",
      "|  22.035944435479514 |    22.39845869138315    |\n",
      "+---------------------+-------------------------+\n",
      " \n",
      "Mean Squared Error (MSE) Comparision of Both Own and sklearn SGD\n",
      "=============================================================================================================================\n",
      " \n",
      "+---------------------+-------------------------+\n",
      "| Own implemented SGD | Sklearn implemented SGD |\n",
      "+---------------------+-------------------------+\n",
      "|  21.770055179819852 |      20.6974994652      |\n",
      "+---------------------+-------------------------+\n"
     ]
    }
   ],
   "source": [
    "x=PrettyTable()\n",
    "\n",
    "print(\"Weight vector Comparision of Both Own and sklearn SGD\")\n",
    "print(\"=\"*125)\n",
    "print(\" \")\n",
    "x.add_column(\"w_number\",[1,2,3,4,5,6,7,8,9,10,11,12,13])\n",
    "x.add_column(\"Own implemented SGD\",w_optimum)\n",
    "x.add_column(\"Sklearn implemented SGD\",w_sklearn)\n",
    "print(x)\n",
    "print(\" \")\n",
    "\n",
    "y=PrettyTable()\n",
    "print(\"Intercept term Comparision of Both Own and sklearn SGD\")\n",
    "print(\"=\"*125)\n",
    "print(\" \")\n",
    "y.field_names = [\"Own implemented SGD\",\"Sklearn implemented SGD\"]\n",
    "y.add_row([b_optimum,float(b_sklearn)])\n",
    "print(y)\n",
    "print(\" \")\n",
    "\n",
    "z=PrettyTable()\n",
    "print(\"Mean Squared Error (MSE) Comparision of Both Own and sklearn SGD\")\n",
    "print(\"=\"*125)\n",
    "print(\" \")\n",
    "z.field_names = [\"Own implemented SGD\",\"Sklearn implemented SGD\"]\n",
    "z.add_row([mse,mse_sklearn])\n",
    "print(z)"
   ]
  }
 ],
 "metadata": {
  "colab": {
   "name": "Untitled3.ipynb",
   "provenance": [],
   "version": "0.3.2"
  },
  "kernelspec": {
   "display_name": "Python 3",
   "language": "python",
   "name": "python3"
  },
  "language_info": {
   "codemirror_mode": {
    "name": "ipython",
    "version": 3
   },
   "file_extension": ".py",
   "mimetype": "text/x-python",
   "name": "python",
   "nbconvert_exporter": "python",
   "pygments_lexer": "ipython3",
   "version": "3.6.8"
  }
 },
 "nbformat": 4,
 "nbformat_minor": 1
}
